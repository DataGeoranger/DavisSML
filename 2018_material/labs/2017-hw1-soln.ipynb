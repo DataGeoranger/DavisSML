{
 "cells": [
  {
   "cell_type": "markdown",
   "metadata": {},
   "source": [
    "# STA 208: Homework 1\n",
    "This is based on the material in Chapters 2, 3 of 'Elements of Statistical Learning' (ESL), in addition to lectures 1-4."
   ]
  },
  {
   "cell_type": "markdown",
   "metadata": {},
   "source": [
    "## Instructions\n",
    "\n",
    "We use a script that extracts your answers by looking for cells in between the cells containing the exercise statements (beginning with __Exercise X.X__).  So you \n",
    "\n",
    "- MUST add cells in between the exercise statements and add answers within them and\n",
    "- MUST NOT modify the existing cells, particularly not the problem statement\n",
    "\n",
    "To make markdown, please switch the cell type to markdown (from code) - you can hit 'm' when you are in command mode - and use the markdown language.  For a brief tutorial see: https://daringfireball.net/projects/markdown/syntax"
   ]
  },
  {
   "cell_type": "markdown",
   "metadata": {},
   "source": [
    "# 1. Conceptual Exercises\n",
    "In the following exercises you should provide an explanation, with math when necessary, for any answers.  When answering with math you should use basic LaTeX, as in \n",
    "$$E(Y|X=x) = \\int_{\\mathcal{Y}} f_{Y|X}(y|x) dy = \\int_{\\mathcal{Y}} \\frac{f_{Y,X}(y,x)}{f_{X}(x)} dy$$\n",
    "for displayed equations, and $R_{i,j} = 2^{-|i-j|}$ for inline equations.  (To see the contents of this cell in markdown, double click on it or hit Enter in escape mode.)  To see a list of latex math symbols see here: http://web.ift.uib.no/Teori/KURS/WRK/TeX/symALL.html"
   ]
  },
  {
   "cell_type": "markdown",
   "metadata": {},
   "source": [
    "__Exercise 1.1.__ (5 pts) Recall that the Hamming loss for Binary classification ($y \\in \\{0,1\\}$) is \n",
    "$$l(y,\\hat y) = 1\\{y \\ne \\hat y\\} = (y - \\hat y)^2$$\n",
    "as long as $\\hat y \\in \\{0,1\\}$.\n",
    "This loss can be extended to multiclass classification where there are $K$ possible values that $y$ can take (for example 'dog','cat','squirrel' or 1-5 stars).  Explain how you can re-encode $y$ and $\\hat y$ to be a $K-1$ dimensional vector that generalizes binary classification, and rewrite the loss using vector operations."
   ]
  },
  {
   "cell_type": "markdown",
   "metadata": {},
   "source": [
    "If we encode $\\hat{y}$ be to $K$ dimensional vector, then $\\hat{y} = e_i$, where $e_i$ is a vector with (K-1) 0 and a 1 at the $i$th index. The corresponding loss function is $l(y,\\hat{y}) = \\|y - \\hat{y}\\|_2^2$\n",
    "\n",
    "It is also possible to encode $\\hat{y}$ with $K-1$ dimensional vector and still use quadratic loss: For the first $K-1$ class, we still encode $\\hat{y} = e_i$, for class $K$, we encode $\\hat{y} = [\\alpha, \\alpha, ..., \\alpha]$, all elements in this vector is $\\alpha$, where $\\alpha$ is the solution of $(1-\\alpha)^2 + (K-2)\\alpha^2 = 4$"
   ]
  },
  {
   "cell_type": "markdown",
   "metadata": {},
   "source": [
    "__Exercise 1.2__ (5 pts) Ex. 2.7 in ESL"
   ]
  },
  {
   "cell_type": "markdown",
   "metadata": {},
   "source": [
    "(a)  \n",
    "For convenience, we denote $[1, x]$ as $x$.  \n",
    "For linear regression, $\\hat{f}(x_0) = x_0^T \\hat{\\beta}$, where $\\beta = (X^TX)^{-1}X^TY$  \n",
    "so $\\hat{f}(x_0) = x_0^T (X^TX)^{-1}X^TY = \\sum_{i=1}^n x_0 (X^TX)^{-1} x_i^T y_i$  \n",
    "$l_i(x_0; X) = x_0 (X^TX)^{-1} x_i^T$  \n",
    "\n",
    "For k-nearest-neighbour regression, $\\hat{f}(x_0) = \\frac{1}{k} \\sum_{i \\in N_k(x_0)}y_i = \\sum_{i=1}^n \\frac{1}{k}I(x \\in N_k(x_0)) y_i$  \n",
    "$l_i(x_0; X) = \\frac{1}{k} I(x \\in N_k(x_0))$\n",
    "\n",
    "(b)  \n",
    "$\\mathbb{E}_{Y|X}(f(x_0)-\\hat{f}(x_0))^2 = \\mathbb{E}_{Y|X}(f(x_0) - \\mathbb{E}_{Y|X}\\hat{f}(x_0) + \\mathbb{E}_{Y|X}\\hat{f}(x_0) - \\hat{f}(x_0))^2 = [f(x_0)-\\mathbb{E}_{Y|X}\\hat{f}(x_0)]^2 + \\mathbb{E}_{Y|X}[\\mathbb{E}_{Y|X}\\hat{f}(x_0) - \\hat{f}(x_0)]^2 \\\\ + [f(x_0)-\\mathbb{E}_{Y|X}\\hat{f}(x_0)][\\mathbb{E}_{Y|X}\\hat{f}(x_0) - \\mathbb{E}_{Y|X}\\hat{f}(x_0)] = [f(x_0)-\\mathbb{E}_{Y|X}\\hat{f}(x_0)]^2 + [\\mathbb{E}_{Y|X}\\hat{f}(x_0) - \\hat{f}(x_0)]^2 = bias_{Y|X}^2 + var(\\hat{f}(x_0)_{Y|X})$\n",
    "\n",
    "(c)  \n",
    "$\\mathbb{E}_{Y,X}(f(x_0)-\\hat{f}(x_0))^2 = \\mathbb{E}_{Y,X}(f(x_0) - \\mathbb{E}_{Y,X}\\hat{f}(x_0) + \\mathbb{E}_{Y,X}\\hat{f}(x_0) - \\hat{f}(x_0))^2 = [f(x_0)-\\mathbb{E}_{Y,X}\\hat{f}(x_0)]^2 + \\mathbb{E}_{Y,X}[\\mathbb{E}_{Y,X}\\hat{f}(x_0) - \\hat{f}(x_0)]^2 \\\\ + [f(x_0)-\\mathbb{E}_{Y,X}\\hat{f}(x_0)][\\mathbb{E}_{Y,X}\\hat{f}(x_0) - \\mathbb{E}_{Y,X}\\hat{f}(x_0)] = [f(x_0)-\\mathbb{E}_{Y,X}\\hat{f}(x_0)]^2 + [\\mathbb{E}_{Y,X}\\hat{f}(x_0) - \\hat{f}(x_0)]^2 = bias_{Y,X}^2 + var(\\hat{f}(x_0)_{Y,X})$\n",
    "\n",
    "(d)  \n",
    "By Adam's law.  \n",
    "$\\mathbb{E}_{X}[ bias_{Y|X}^2 ] = \\mathbb{E}_{X} [f(x_0) - \\mathbb{E}_{Y,X}(\\hat{f}(x_0)) + \\mathbb{E}_{Y,X}(\\hat{f}(x_0)) - \\mathbb{E}_{Y|X}(\\hat{f}(x_0))]^2 = bias_{Y,X}^2 + var_X( \\mathbb{E}_{Y|X}(\\hat{f}(x_0)) )$  \n",
    "By Eve's law.  \n",
    "$var(\\hat{f}(x_0)_{Y,X}) = \\mathbb{E}_{X}(var(\\hat{f}(x_0)_{Y|X})) + var_{X} (\\mathbb{E}_{Y|X}(\\hat{f}(x_0)))$"
   ]
  },
  {
   "cell_type": "markdown",
   "metadata": {},
   "source": [
    "__Exercise 1.3__ (5 pts, 1 for each part) Recall that the true risk for a prediction function, $f$, a loss function, $\\ell$, and a joint distribution for $Y,X$ is \n",
    "$$R(f) = E \\ell(y,f(x))$$\n",
    "For a training set $\\{x_i,y_x\\}_{i=1}^n$, the empirical risk is \n",
    "$$R_n = \\frac{1}{n} \\sum_{i=1}^n \\ell(y_i,f(x_i)).$$\n",
    "Let $y = x^\\top \\beta + \\epsilon$ be a linear model for $Y|X$, where $x,\\beta$ are $p$-dimensional such that $\\epsilon$ is Gaussian with mean 0 and variance $\\sigma^2$ (independent of X).\n",
    "Let $\\ell(y,\\hat y) = (y - \\hat y)^2$ be square error loss.\n",
    "\n",
    "1. Show that $f^\\star(x) = x^\\top \\beta$ gives the smallest true risk (also known as the Bayes rule).\n",
    "1. Why can't we use this prediction in practice?\n",
    "1. Recall that OLS is the empirical risk minimizer for linear functions.  Why does this tell us the following:\n",
    "$$ E R_n (\\hat f) \\le R(f^\\star)$$\n",
    "1. How do we know that $E R_n (\\hat f) \\le R(\\hat f)$? and use this to answer Ex. 2.9 in ESL.  \n",
    "1. What about this was specific to OLS and least squares loss (can this be generalized)?  What is the most general statement that you can think of that you can prove in this way?"
   ]
  },
  {
   "cell_type": "markdown",
   "metadata": {},
   "source": [
    "(1)  \n",
    "We know that $\\arg \\min_{\\hat{Y}} \\mathbb{E}(Y-\\hat{Y})^2 = \\mathbb{E}(Y|X)$  \n",
    "$f^*(x)$ is the minimier of true risk $\\mathbb{E}(Y-\\hat{Y})^2$  \n",
    "So $f^*(x) = \\mathbb{E}(Y|X=x) = \\mathbb{E}(x^T \\beta + \\epsilon) = \\mathbb{E}(x^T\\beta) = x^T\\beta$  \n",
    "\n",
    "(2)  \n",
    "We don't know $\\beta$ in practice.\n",
    "\n",
    "(3)  __Solution 1__\n",
    "$R_n(\\hat f) \\le R_n(f^\\star)$ and \n",
    "$$E R_n(f^\\star) = E \\left( \\frac 1n \\sum_{i=1}^n \\ell(y_i,f^\\star(x_i)) \\right) = \\frac 1n \\sum_{i=1}^n R(f^\\star) = R(f^\\star)$$\n",
    "Hence, $E R_n(\\hat f) \\le R(f^\\star)$.\n",
    "\n",
    "__Solution 2__\n",
    "($R(f^*) = \\mathbb{E}(Y - X\\beta)^2 = \\mathbb{E}(\\epsilon)^2 = \\sigma^2$ )\n",
    "$\\mathbb{E}(l(y_i, \\hat{f}(x_i))) = \\mathbb{E}[ \\mathbb{E}(l(y_i, \\hat{f}(x_i))) | X ]$  \n",
    "We calculate the conditional expectation first(treat $X$ as fixed matrix):  \n",
    "$\\mathbb{E}[l(y_i, \\hat{f}(x_i)) | X] = \\mathbb{E}(x_i^T\\beta + \\epsilon_i - x_i^T (X^TX)^{-1}X^TY)^2 = \\mathbb{E}(x_i^T\\beta + \\epsilon_i - x_i^T (X^TX)^{-1}X^T(X^T\\beta + \\mathbf{\\epsilon}))^2\\\\ = \\mathbb{E}(x_i^T\\beta + \\epsilon_i - x_i^T\\beta + <> x_i^T(X^TX)^{-1}X^T\\mathbf{\\epsilon})^2 = \\mathbb{E}((e_i - x_i^T(X^TX)^{-1}X^T)^T \\mathbf{\\epsilon})^2 = \\mathbb{E}_{X}[ \\mathbb{E}_{\\epsilon|X} ((e_i - x_i^T(X^TX)^{-1}X^T)^T \\mathbf{\\epsilon})^2 ] = (e_i - x_i^T(X^TX)^{-1}X^T) \\sigma^2 I (e_i - x_i^T(X^TX)^{-1}X^T)^T\\\\ = \\sigma^2( 1 + x_i^T(X^TX)^{-1}x_i - 2e_iX(X^TX)^{-1}x_i ) = \\sigma^2(1-x_i^T(X^TX)^{-1}x_i) <= \\sigma^2$  \n",
    "$\\qquad$ $\\qquad$ $\\qquad$ $\\qquad$ $\\qquad$ $\\qquad$ $\\qquad$ ($(X^TX)^{-1}$ is postive definite) \n",
    "\n",
    "We have proved that $\\mathbb{E}[l(y_i, \\hat{f}(x_i)) | X] \\leq \\sigma^2$ is true for $\\forall X$ s.t. $(X^TX)$ has full rank. So $\\mathbb{E}(l(y_i, \\hat{f}(x_i))) = \\mathbb{E}[ \\mathbb{E}(l(y_i, \\hat{f}(x_i))) | X ] \\leq \\mathbb{E}(\\sigma^2) = \\sigma^2$\n",
    "\n",
    "So $\\mathbb{E}(R_n(\\hat{f})) = E(\\frac{1}{n}\\sum_{i=1}^nl(y_i,\\hat{f}(x_i))) = \\frac{1}{n}\\sum_{i=1}^n \\mathbb{E}(l(y_i, \\hat{f}(x_i))) \\leq \\sigma^2 = R(f^*)$\n",
    "\n",
    "(4)  __Solution 1__\n",
    "Based on (1) we have that $R(f^\\star) \\le R(\\hat f)$. Hence, we have that \n",
    "$$E R_n (\\hat f) \\le R(\\hat f).$$\n",
    "Therefore, the expected test error is greater than or equal to the expected training error.\n",
    "\n",
    "\n",
    "__Solution 2__\n",
    "For a newly observed $x_0$ and $y_0$, denote $\\mathbf{\\epsilon}_t$ as the $\\epsilon$ for training set. we know that $\\epsilon_0$ and $\\mathbf{\\epsilon}_t$ are independent.  \n",
    "$R(\\hat{f}) = \\mathbb{E}(y_0 - x_0(X^TX)^{-1}X^TY)^2 = \\mathbb{E}(x_0\\beta + \\epsilon_0 - x_0(X^TX)^{-1}X^T(X\\beta + \\mathbf{\\epsilon}_t))^2 = \\mathbb{E}(\\epsilon_0 - x_0(X^TX)^{-1}X^T\\epsilon_t)^2 \\\\=  \\sigma^2 + \\mathbb{E}(x_0(X^TX)^{-1}X^T\\mathbf{\\epsilon}_t)^2 - \\mathbb{E}(\\epsilon_0) \\mathbb{E}(x_0(X^TX)^{-1}X^T\\mathbf{\\epsilon}_t) = \\sigma^2 + \\mathbb{E}(x_0(X^TX)^{-1}X^T\\mathbf{\\epsilon}_t)^2 + 0 \\geq \\sigma^2 = R(f^*)$\n",
    "\n",
    "(5) If we refer to Solution 1's then we see that the only place where the Gaussian model was used was in (1).  So, the most general statement is...\n",
    "\n",
    "Let $f^\\star$ be the minimizer of $R(f)$ the true risk, and let $\\hat f$ be the minimizer of $R_n$.  Then $E R_n(\\hat f) \\le R(\\hat f)$.\n"
   ]
  },
  {
   "cell_type": "markdown",
   "metadata": {},
   "source": [
    "__Exercise 1.4__ Ex. 3.5 in ESL"
   ]
  },
  {
   "cell_type": "markdown",
   "metadata": {},
   "source": [
    "$$\\min_{\\beta^c}\\{ \\sum_{i=1}^N [y_i - \\beta_0^c - \\sum_{j=1}^p (x_{ij} - \\bar{x}_j)\\beta_j^c]^2 + \\lambda \\sum_{j=1}^N \\beta_j^{c2} \\} = \\min_{\\beta^c}\\{ \\sum_{i=1}^N [y_i - (\\beta_0^c - \\sum_{j=1}^p\\bar{x}_j\\beta_j^c) - \\sum_{j=1}^p x_{ij}\\beta_j^c]^2 + \\lambda \\sum_{j=1}^N \\beta_j^{c2}\\} \\\\ = \\min_{\\beta}\\{ \\sum_{i=1}^N [y_i - \\beta_0 - \\sum_{j=1}^p x_{ij}\\beta_j]^2 + \\lambda \\sum_{j=1}^N \\beta_j^{2}\\} $$\n",
    "\n",
    "Where $\\beta_j = \\beta_j^c$ for $1 \\leq j \\leq p$ and $\\beta_0 = \\beta_0^c - \\sum_{j=1}^p\\bar{x}_j\\beta_j^c$\n",
    "\n",
    "For Lasso, the proof is similar."
   ]
  },
  {
   "cell_type": "markdown",
   "metadata": {},
   "source": [
    "__Exercise 1.5__ Ex 3.9 in ESL"
   ]
  },
  {
   "cell_type": "markdown",
   "metadata": {},
   "source": [
    "$X = QR$, where $Q$ is orthogonal matrix and $R$ is upper trangular matrix, then $\\hat{y} = QQ^T y$.  \n",
    "We add a new feature $X_{new}$, denote $Q_{new} = [Q, q]$  \n",
    "$RSS = y^T(I - Q_{new} Q_{new}^T) y = y^T(I - QQ^T - qq^T)y = \\|r\\|_2^2 - (y^Tq)^2$  \n",
    "So we want to find the $q$ that maximize $y^Tq$\n",
    "\n",
    "To make my algorithm efficient, we don't want to apply QR decomposition for our new data again and again.\n",
    "\n",
    "The detailed algorithm:  \n",
    "for i = p+1,p+2,...,q:  \n",
    "$\\qquad$ Calculate $q_i$ by gram-schmit: $q_i = x_i - \\sum_{j=1}^p x_i^T x_j$ and normalize it by $q_i = q_i/\\|q_i\\|_2$  \n",
    "$\\qquad$ Calculate $(y^Tq_i)^2$  \n",
    "Output the $i$ that maximize $(y^Tq_i)^2$"
   ]
  },
  {
   "cell_type": "markdown",
   "metadata": {},
   "source": [
    "# HW1 Wine Data Analysis"
   ]
  },
  {
   "cell_type": "markdown",
   "metadata": {},
   "source": [
    "## Instructions\n",
    "\n",
    "You will be graded based on several criteria, and each is on a 5 point scale (5 is excellent - A - 1 is poor - C - 0 is not answered - D/F).  You should strive to 'impress us' if you want a 5.  This means excellent code, well explained conclusions, well annotated plots, correct answers, etc.\n",
    "\n",
    "We will be grading you on several criteria:\n",
    "\n",
    "- Conclusions: Conclusions should be consistent with the evidence provided, the conclusion should be well justified, the principles of machine learning that you have learned should be respected (such as overfitting and underfitting etc.)\n",
    "- Correctness of calculations: code should be correct and reflect the principles learned in this course, the logic should be sound, the methods should match the setting and context, you should try many applicable methods that you have learned as long as they apply. \n",
    "- Code, Figures, and Text: Code should be annotated and easy to follow, with docstrings on the functions; captions, titles,  for figures "
   ]
  },
  {
   "cell_type": "markdown",
   "metadata": {},
   "source": [
    "__Exercise 2__ You should run the following code cells to import the code and reduce the variable set.  Address the questions after the code."
   ]
  },
  {
   "cell_type": "code",
   "execution_count": 3,
   "metadata": {
    "collapsed": true
   },
   "outputs": [],
   "source": [
    "import numpy as np\n",
    "import pandas as pd\n",
    "import matplotlib.pyplot as plt\n",
    "from sklearn.model_selection import LeaveOneOut\n",
    "from sklearn import linear_model, neighbors\n",
    "%matplotlib inline\n",
    "plt.style.use('ggplot')\n",
    "\n",
    "# dataset path\n",
    "data_dir = \".\""
   ]
  },
  {
   "cell_type": "code",
   "execution_count": 4,
   "metadata": {
    "collapsed": false
   },
   "outputs": [],
   "source": [
    "sample_data = pd.read_csv(data_dir+\"/hw1.csv\", delimiter=',')"
   ]
  },
  {
   "cell_type": "code",
   "execution_count": 5,
   "metadata": {
    "collapsed": false
   },
   "outputs": [
    {
     "data": {
      "text/html": [
       "<div>\n",
       "<table border=\"1\" class=\"dataframe\">\n",
       "  <thead>\n",
       "    <tr style=\"text-align: right;\">\n",
       "      <th></th>\n",
       "      <th>quality</th>\n",
       "      <th>density</th>\n",
       "      <th>pH</th>\n",
       "      <th>alcohol</th>\n",
       "      <th>time</th>\n",
       "    </tr>\n",
       "  </thead>\n",
       "  <tbody>\n",
       "    <tr>\n",
       "      <th>0</th>\n",
       "      <td>90.0</td>\n",
       "      <td>0.99780</td>\n",
       "      <td>3.51</td>\n",
       "      <td>9.4</td>\n",
       "      <td>5</td>\n",
       "    </tr>\n",
       "    <tr>\n",
       "      <th>1</th>\n",
       "      <td>68.5</td>\n",
       "      <td>0.99620</td>\n",
       "      <td>3.26</td>\n",
       "      <td>10.0</td>\n",
       "      <td>4</td>\n",
       "    </tr>\n",
       "    <tr>\n",
       "      <th>2</th>\n",
       "      <td>110.0</td>\n",
       "      <td>0.99630</td>\n",
       "      <td>3.25</td>\n",
       "      <td>9.2</td>\n",
       "      <td>5</td>\n",
       "    </tr>\n",
       "    <tr>\n",
       "      <th>3</th>\n",
       "      <td>71.5</td>\n",
       "      <td>0.99551</td>\n",
       "      <td>3.56</td>\n",
       "      <td>10.8</td>\n",
       "      <td>5</td>\n",
       "    </tr>\n",
       "    <tr>\n",
       "      <th>4</th>\n",
       "      <td>110.0</td>\n",
       "      <td>0.99600</td>\n",
       "      <td>3.28</td>\n",
       "      <td>9.8</td>\n",
       "      <td>6</td>\n",
       "    </tr>\n",
       "  </tbody>\n",
       "</table>\n",
       "</div>"
      ],
      "text/plain": [
       "   quality  density    pH  alcohol  time\n",
       "0     90.0  0.99780  3.51      9.4     5\n",
       "1     68.5  0.99620  3.26     10.0     4\n",
       "2    110.0  0.99630  3.25      9.2     5\n",
       "3     71.5  0.99551  3.56     10.8     5\n",
       "4    110.0  0.99600  3.28      9.8     6"
      ]
     },
     "execution_count": 5,
     "metadata": {},
     "output_type": "execute_result"
    }
   ],
   "source": [
    "sample_data.head()"
   ]
  },
  {
   "cell_type": "markdown",
   "metadata": {},
   "source": [
    "The response variable is quality. "
   ]
  },
  {
   "cell_type": "code",
   "execution_count": 6,
   "metadata": {
    "collapsed": false
   },
   "outputs": [],
   "source": [
    "X = np.array(sample_data.iloc[:,range(1,5)])\n",
    "y = np.array(sample_data.iloc[:,0])"
   ]
  },
  {
   "cell_type": "code",
   "execution_count": 7,
   "metadata": {
    "collapsed": true
   },
   "outputs": [],
   "source": [
    "def loo_risk(X,y,regmod):\n",
    "    \"\"\"\n",
    "    Construct the leave-one-out square error risk for a regression model\n",
    "    \n",
    "    Input: design matrix, X, response vector, y, a regression model, regmod\n",
    "    Output: scalar LOO risk\n",
    "    \"\"\"\n",
    "    loo = LeaveOneOut()\n",
    "    loo_losses = []\n",
    "    for train_index, test_index in loo.split(X):\n",
    "        X_train, X_test = X[train_index], X[test_index]\n",
    "        y_train, y_test = y[train_index], y[test_index]\n",
    "        regmod.fit(X_train,y_train)\n",
    "        y_hat = regmod.predict(X_test)\n",
    "        loss = np.sum((y_hat - y_test)**2)\n",
    "        loo_losses.append(loss)\n",
    "    return np.mean(loo_losses)\n",
    "\n",
    "def emp_risk(X,y,regmod):\n",
    "    \"\"\"\n",
    "    Return the empirical risk for square error loss\n",
    "    \n",
    "    Input: design matrix, X, response vector, y, a regression model, regmod\n",
    "    Output: scalar empirical risk\n",
    "    \"\"\"\n",
    "    regmod.fit(X,y)\n",
    "    y_hat = regmod.predict(X)\n",
    "    return np.mean((y_hat - y)**2)"
   ]
  },
  {
   "cell_type": "markdown",
   "metadata": {},
   "source": [
    "__Exercise 2.1__ (5 pts) Compare the leave-one-out risk with the empirical risk for linear regression, on this dataset."
   ]
  },
  {
   "cell_type": "code",
   "execution_count": 12,
   "metadata": {
    "collapsed": false
   },
   "outputs": [
    {
     "name": "stdout",
     "output_type": "stream",
     "text": [
      "LOO Risk: 243.831648671\n",
      "Emp Risk: 242.247818463\n"
     ]
    }
   ],
   "source": [
    "lin1 = linear_model.LinearRegression(fit_intercept=True)\n",
    "print('LOO Risk: '+ str(loo_risk(X,y,lin1)))\n",
    "print('Emp Risk: ' + str(emp_risk(X,y,lin1)))"
   ]
  },
  {
   "cell_type": "markdown",
   "metadata": {},
   "source": [
    "__Exercise 2.2__ (10 pts) Perform kNN regression and compare the leave-one-out risk with the empirical risk for k from 1 to 50.  Remark on the tradeoff between bias and variance for this dataset and compare against linear regression."
   ]
  },
  {
   "cell_type": "code",
   "execution_count": null,
   "metadata": {
    "collapsed": true
   },
   "outputs": [],
   "source": [
    "LOOs = []\n",
    "MSEs = []\n",
    "K=60\n",
    "Ks = range(1,K+1)\n",
    "for k in Ks:\n",
    "    knn = neighbors.KNeighborsRegressor(n_neighbors=k)\n",
    "    LOOs.append(loo_risk(X,y,knn))\n",
    "    MSEs.append(emp_risk(X,y,knn))"
   ]
  },
  {
   "cell_type": "code",
   "execution_count": null,
   "metadata": {
    "collapsed": false
   },
   "outputs": [],
   "source": [
    "plt.plot(Ks,LOOs,'r',label=\"LOO risk\")\n",
    "plt.title(\"Risks for kNN Regression\")\n",
    "plt.plot(Ks,MSEs,'b',label=\"Emp risk\")\n",
    "plt.legend()\n",
    "_ = plt.xlabel('k')"
   ]
  },
  {
   "cell_type": "code",
   "execution_count": null,
   "metadata": {
    "collapsed": false
   },
   "outputs": [],
   "source": [
    "min(LOOs)"
   ]
  },
  {
   "cell_type": "code",
   "execution_count": null,
   "metadata": {
    "collapsed": false
   },
   "outputs": [],
   "source": [
    "print('optimal k:' + str(LOOs.index(min(LOOs))))"
   ]
  },
  {
   "cell_type": "markdown",
   "metadata": {},
   "source": [
    "__Conclusion__ Comparing the performance of kNN and linear regression, we see that 16-nearest neighbors achieves a LOO risk of 233.2 which is lower than that for linear regression (243.5)."
   ]
  },
  {
   "cell_type": "markdown",
   "metadata": {},
   "source": [
    "__Exercise 2.3__ (10 pts) Implement forward stepwise regression (ESL section 3.3.2) for the linear model and compare the LOO risk for each stage.  Recall that at each step forward stepwise regression will select a new variable that most improves the empirical risk and include that in the model (starting with the intercept)."
   ]
  },
  {
   "cell_type": "code",
   "execution_count": 29,
   "metadata": {
    "collapsed": false
   },
   "outputs": [],
   "source": [
    "n,p = X.shape\n",
    "rem = set(range(p))\n",
    "supp = []\n",
    "LOOs = []\n",
    "while len(supp) < p:\n",
    "    rem = list(set(range(p)) - set(supp))\n",
    "    ERMs = [emp_risk(X[:,supp+[j]],y,linear_model.LinearRegression(fit_intercept=True)) for j in rem]\n",
    "    jmin = rem[np.argmin(ERMs)]\n",
    "    supp.append(jmin)\n",
    "    LOOs.append(loo_risk(X[:,supp],y,linear_model.LinearRegression(fit_intercept=True)))"
   ]
  },
  {
   "cell_type": "code",
   "execution_count": 32,
   "metadata": {
    "collapsed": false
   },
   "outputs": [
    {
     "name": "stdout",
     "output_type": "stream",
     "text": [
      "Step 0 added variable 3 with LOO: 258.844899216\n",
      "Step 1 added variable 1 with LOO: 245.588154312\n",
      "Step 2 added variable 2 with LOO: 243.508220022\n",
      "Step 3 added variable 0 with LOO: 243.831648671\n"
     ]
    }
   ],
   "source": [
    "for i,s,loo in zip(range(p),supp,LOOs):\n",
    "    print(\"Step {} added variable {} with LOO: {}\".format(i,s,loo))"
   ]
  },
  {
   "cell_type": "markdown",
   "metadata": {},
   "source": [
    "__Conclusion__ The selected model with the smallest LOO risk are variables 1,2,3 and not variable 0, but the LOO with the full model is not much different.  We gain more from using k-nearest neighbors than doing variable selection using forward stepwise."
   ]
  }
 ],
 "metadata": {
  "anaconda-cloud": {},
  "kernelspec": {
   "display_name": "Python [default]",
   "language": "python",
   "name": "python2"
  },
  "language_info": {
   "codemirror_mode": {
    "name": "ipython",
    "version": 2
   },
   "file_extension": ".py",
   "mimetype": "text/x-python",
   "name": "python",
   "nbconvert_exporter": "python",
   "pygments_lexer": "ipython2",
   "version": "2.7.12"
  }
 },
 "nbformat": 4,
 "nbformat_minor": 2
}
