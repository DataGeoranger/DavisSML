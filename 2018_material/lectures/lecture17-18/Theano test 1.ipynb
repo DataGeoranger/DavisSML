{
 "cells": [
  {
   "cell_type": "code",
   "execution_count": 373,
   "metadata": {
    "collapsed": false
   },
   "outputs": [],
   "source": [
    "import theano\n",
    "import numpy as np\n",
    "from theano import tensor as T"
   ]
  },
  {
   "cell_type": "code",
   "execution_count": 826,
   "metadata": {
    "collapsed": false
   },
   "outputs": [],
   "source": [
    "x = T.vector('x')\n",
    "W1 = T.matrix('W1')"
   ]
  },
  {
   "cell_type": "code",
   "execution_count": 827,
   "metadata": {
    "collapsed": false
   },
   "outputs": [],
   "source": [
    "u1 = T.dot(W1,x)"
   ]
  },
  {
   "cell_type": "code",
   "execution_count": 828,
   "metadata": {
    "collapsed": false
   },
   "outputs": [],
   "source": [
    "f = theano.function([x,W1],u1)"
   ]
  },
  {
   "cell_type": "code",
   "execution_count": 861,
   "metadata": {
    "collapsed": false
   },
   "outputs": [],
   "source": [
    "p = 2\n",
    "H = 4\n",
    "xtest = np.random.randn(p)\n",
    "W1test = np.random.randn(p*H).reshape((H,p))\n",
    "#ctest = np.random.randn(H) #np.array([0,-1])\n",
    "w2test = np.random.randn(H)"
   ]
  },
  {
   "cell_type": "code",
   "execution_count": 862,
   "metadata": {
    "collapsed": false
   },
   "outputs": [
    {
     "data": {
      "text/plain": [
       "array([-2.15644465,  1.1373422 ,  0.72897413,  0.72089351])"
      ]
     },
     "execution_count": 862,
     "metadata": {},
     "output_type": "execute_result"
    }
   ],
   "source": [
    "np.dot(W1test,xtest)"
   ]
  },
  {
   "cell_type": "code",
   "execution_count": 863,
   "metadata": {
    "collapsed": false
   },
   "outputs": [
    {
     "data": {
      "text/plain": [
       "(array([[-2.29076691,  0.2329384 ],\n",
       "        [ 1.52319618,  0.03898188],\n",
       "        [ 1.01243217,  0.04355572],\n",
       "        [-0.36766436, -0.66018873]]),\n",
       " array([-0.82050505, -0.49632092, -1.37141905,  1.93620178]))"
      ]
     },
     "execution_count": 863,
     "metadata": {},
     "output_type": "execute_result"
    }
   ],
   "source": [
    "W1test, w2test"
   ]
  },
  {
   "cell_type": "code",
   "execution_count": 864,
   "metadata": {
    "collapsed": false
   },
   "outputs": [
    {
     "data": {
      "text/plain": [
       "array([-2.15644465,  1.1373422 ,  0.72897413,  0.72089351])"
      ]
     },
     "execution_count": 864,
     "metadata": {},
     "output_type": "execute_result"
    }
   ],
   "source": [
    "f(xtest,W1test)"
   ]
  },
  {
   "cell_type": "code",
   "execution_count": 865,
   "metadata": {
    "collapsed": false
   },
   "outputs": [],
   "source": [
    "h = T.nnet.relu(u1)\n",
    "w2 = T.vector('w2')\n",
    "u2 = T.dot(h,w2)\n",
    "y = T.scalar('y')\n",
    "prob = T.nnet.sigmoid(u2)\n",
    "R = - y * T.log(prob) - (1 - y) * T.log(1 - prob)"
   ]
  },
  {
   "cell_type": "code",
   "execution_count": 866,
   "metadata": {
    "collapsed": false
   },
   "outputs": [],
   "source": [
    "w2g = T.grad(R,w2)\n",
    "W1g = T.grad(R,W1)"
   ]
  },
  {
   "cell_type": "code",
   "execution_count": 867,
   "metadata": {
    "collapsed": false
   },
   "outputs": [
    {
     "name": "stdout",
     "output_type": "stream",
     "text": [
      "((((((fill((((-y) * log(sigmoid(((TensorConstant{0.5} * ((W1 \\dot x) + |(W1 \\dot x)|)) \\dot w2)))) - ((TensorConstant{1} - y) * log((TensorConstant{1} - sigmoid(((TensorConstant{0.5} * ((W1 \\dot x) + |(W1 \\dot x)|)) \\dot w2)))))), TensorConstant{1.0}) * (-y)) / sigmoid(((TensorConstant{0.5} * ((W1 \\dot x) + |(W1 \\dot x)|)) \\dot w2))) + (-(((-fill((((-y) * log(sigmoid(((TensorConstant{0.5} * ((W1 \\dot x) + |(W1 \\dot x)|)) \\dot w2)))) - ((TensorConstant{1} - y) * log((TensorConstant{1} - sigmoid(((TensorConstant{0.5} * ((W1 \\dot x) + |(W1 \\dot x)|)) \\dot w2)))))), TensorConstant{1.0})) * (TensorConstant{1} - y)) / (TensorConstant{1} - sigmoid(((TensorConstant{0.5} * ((W1 \\dot x) + |(W1 \\dot x)|)) \\dot w2)))))) * sigmoid(((TensorConstant{0.5} * ((W1 \\dot x) + |(W1 \\dot x)|)) \\dot w2))) * (TensorConstant{1.0} - sigmoid(((TensorConstant{0.5} * ((W1 \\dot x) + |(W1 \\dot x)|)) \\dot w2)))) * (TensorConstant{0.5} * ((W1 \\dot x) + |(W1 \\dot x)|)))\n"
     ]
    }
   ],
   "source": [
    "print(theano.pp(w2g))"
   ]
  },
  {
   "cell_type": "code",
   "execution_count": 868,
   "metadata": {
    "collapsed": false
   },
   "outputs": [],
   "source": [
    "p_maker = theano.function([x,W1,w2],prob)"
   ]
  },
  {
   "cell_type": "code",
   "execution_count": 869,
   "metadata": {
    "collapsed": false
   },
   "outputs": [],
   "source": [
    "ytest = (np.random.rand() < p_maker(xtest,W1test,w2test))*1."
   ]
  },
  {
   "cell_type": "code",
   "execution_count": 870,
   "metadata": {
    "collapsed": false
   },
   "outputs": [],
   "source": [
    "get_grad = theano.function([x,y,W1,w2],[w2g, W1g])"
   ]
  },
  {
   "cell_type": "code",
   "execution_count": 871,
   "metadata": {
    "collapsed": false
   },
   "outputs": [
    {
     "data": {
      "text/plain": [
       "[array([-0.        , -0.61644614, -0.39510825, -0.39072851]),\n",
       " array([[ 0.        ,  0.        ],\n",
       "        [ 0.21139434, -0.41147158],\n",
       "        [ 0.58411849, -1.1369659 ],\n",
       "        [-0.82467227,  1.60519529]])]"
      ]
     },
     "execution_count": 871,
     "metadata": {},
     "output_type": "execute_result"
    }
   ],
   "source": [
    "get_grad(xtest,ytest,W1test,w2test)"
   ]
  },
  {
   "cell_type": "code",
   "execution_count": 872,
   "metadata": {
    "collapsed": false
   },
   "outputs": [],
   "source": [
    "p=2\n",
    "def get_xy():\n",
    "    xtest = np.random.randn(p)\n",
    "    ytest = (np.random.rand() < p_maker(xtest,W1test,w2test))*1.\n",
    "    return(xtest,ytest)"
   ]
  },
  {
   "cell_type": "code",
   "execution_count": 873,
   "metadata": {
    "collapsed": false
   },
   "outputs": [],
   "source": [
    "n = 1000\n",
    "Xdata,ydata = zip(*[get_xy() for i in range(n)])"
   ]
  },
  {
   "cell_type": "code",
   "execution_count": 874,
   "metadata": {
    "collapsed": true
   },
   "outputs": [],
   "source": [
    "Xdata = np.array(Xdata)\n",
    "ydata = np.array(ydata)"
   ]
  },
  {
   "cell_type": "code",
   "execution_count": 875,
   "metadata": {
    "collapsed": true
   },
   "outputs": [],
   "source": [
    "from matplotlib import pyplot as plt"
   ]
  },
  {
   "cell_type": "code",
   "execution_count": 876,
   "metadata": {
    "collapsed": false
   },
   "outputs": [
    {
     "data": {
      "image/png": "[encoded data removed]",
      "text/plain": [
       "<matplotlib.figure.Figure at 0x90fd550>"
      ]
     },
     "metadata": {},
     "output_type": "display_data"
    }
   ],
   "source": [
    "plt.scatter(Xdata[ydata==1.,0],Xdata[ydata==1.,1])\n",
    "plt.scatter(Xdata[ydata==0.,0],Xdata[ydata==0.,1],c='r')\n",
    "plt.show()"
   ]
  },
  {
   "cell_type": "code",
   "execution_count": 877,
   "metadata": {
    "collapsed": false
   },
   "outputs": [
    {
     "data": {
      "text/plain": [
       "[array([-0.        , -0.61644614, -0.39510825, -0.39072851]),\n",
       " array([[ 0.        ,  0.        ],\n",
       "        [ 0.21139434, -0.41147158],\n",
       "        [ 0.58411849, -1.1369659 ],\n",
       "        [-0.82467227,  1.60519529]])]"
      ]
     },
     "execution_count": 877,
     "metadata": {},
     "output_type": "execute_result"
    }
   ],
   "source": [
    "get_grad(xtest,ytest,W1test,w2test)"
   ]
  },
  {
   "cell_type": "code",
   "execution_count": 878,
   "metadata": {
    "collapsed": true
   },
   "outputs": [],
   "source": [
    "import pickle"
   ]
  },
  {
   "cell_type": "code",
   "execution_count": 879,
   "metadata": {
    "collapsed": false
   },
   "outputs": [],
   "source": [
    "with open('theano_test_data.pl','w') as datafile:\n",
    "    pickle.dump((Xdata,ydata),datafile)"
   ]
  }
 ],
 "metadata": {
  "kernelspec": {
   "display_name": "Python [default]",
   "language": "python",
   "name": "python2"
  },
  "language_info": {
   "codemirror_mode": {
    "name": "ipython",
    "version": 2
   },
   "file_extension": ".py",
   "mimetype": "text/x-python",
   "name": "python",
   "nbconvert_exporter": "python",
   "pygments_lexer": "ipython2",
   "version": "2.7.12"
  }
 },
 "nbformat": 4,
 "nbformat_minor": 1
}
